{
 "cells": [
  {
   "cell_type": "markdown",
   "metadata": {},
   "source": [
    "## Initialisation code\n",
    "Don't worry about it, just ignore this."
   ]
  },
  {
   "cell_type": "code",
   "execution_count": 16,
   "metadata": {
    "collapsed": false
   },
   "outputs": [],
   "source": [
    "from matplotlib import pyplot\n",
    "from pandas import DataFrame, scatter_matrix\n",
    "from pymongo import MongoClient\n",
    "from scipy import stats\n",
    "%matplotlib inline"
   ]
  },
  {
   "cell_type": "code",
   "execution_count": 17,
   "metadata": {
    "collapsed": false
   },
   "outputs": [],
   "source": [
    "MIN_SALIENCE = 0.01\n",
    "news_collection = MongoClient().fakeko['news']\n",
    "\n",
    "# news dataframe\n",
    "news_list = news_collection.find({'skip': {'$ne': True}, 'text_analysed': True})\n",
    "def get_news_fields(news):\n",
    "    return [news['short_url'], news['domain'], news['sentiment_score'], \n",
    "            news['sentiment_magnitude'], news['language'], news['authors']]\n",
    "news_data = [get_news_fields(news) for news in news_list]\n",
    "df = DataFrame(data=news_data, columns=['short_url', 'domain', 'sentiment_score', \n",
    "                                        'sentiment_magnitude', 'language', 'authors'])\n",
    "df['domain'] = df['domain'].astype('category')\n",
    "df['language'] = df['language'].astype('category')\n",
    "\n",
    "# entities dataframe\n",
    "news_list = news_collection.find({'skip': {'$ne': True}, 'text_analysed': True})\n",
    "def get_entities_fields(entity):\n",
    "    return [entity['name'], entity['type'], entity['salience']]\n",
    "entities = []\n",
    "for news in news_list:\n",
    "    for entity in news['entities']:\n",
    "        if entity['salience'] >= MIN_SALIENCE:\n",
    "            entities.append(get_entities_fields(entity))\n",
    "entities_df = DataFrame(data=entities, columns=['name', 'type', 'salience'])"
   ]
  },
  {
   "cell_type": "markdown",
   "metadata": {},
   "source": [
    "## Most common websites\n",
    "On the left the web site, on the right the frequency in %, filtered by 1% or above."
   ]
  },
  {
   "cell_type": "code",
   "execution_count": 18,
   "metadata": {
    "collapsed": false
   },
   "outputs": [
    {
     "data": {
      "text/plain": [
       "www.parlamentnilisty.cz            5.172414\n",
       "miaistok.su                        3.879310\n",
       "protiproud.parlamentnilisty.cz     3.663793\n",
       "cz.sputniknews.com                 2.586207\n",
       "ria.ru                             2.370690\n",
       "sputniknews.com                    2.370690\n",
       "baltnews.lv                        2.370690\n",
       "aeronet.cz                         2.370690\n",
       "ac24.cz                            1.939655\n",
       "prvnizpravy.parlamentnilisty.cz    1.293103\n",
       "www.rt.com                         1.293103\n",
       "www.hlavnespravy.sk                1.293103\n",
       "tvzvezda.ru                        1.293103\n",
       "tass.ru                            1.077586\n",
       "ukraina.ru                         1.077586\n",
       "www.facebook.com                   1.077586\n",
       "www.nwoo.org                       1.077586\n",
       "www.bezpolitickekorektnosti.cz     1.077586\n",
       "lenta.ru                           1.077586\n",
       "russia-insider.com                 1.077586\n",
       "www.osce.org                       1.077586\n",
       "Name: domain, dtype: float64"
      ]
     },
     "execution_count": 18,
     "metadata": {},
     "output_type": "execute_result"
    }
   ],
   "source": [
    "(df['domain'].value_counts() / df['domain'].count() * 100)[lambda x: x > 1]"
   ]
  },
  {
   "cell_type": "markdown",
   "metadata": {},
   "source": [
    "## Most common terms\n",
    "On the left the term, on the right the frequency in %, first 30 most frequent.\n",
    "\n",
    "Terms can refer to people, events, locations, organisations. "
   ]
  },
  {
   "cell_type": "code",
   "execution_count": 19,
   "metadata": {
    "collapsed": false
   },
   "outputs": [
    {
     "data": {
      "text/plain": [
       "Russian               2.795699\n",
       "Ukrainian             2.322581\n",
       "people                1.913978\n",
       "United States         1.053763\n",
       "Ukraine               0.967742\n",
       "Vladimir Putin        0.774194\n",
       "Russian Federation    0.709677\n",
       "Moscow                0.709677\n",
       "European Union        0.688172\n",
       "country               0.666667\n",
       "countries             0.602151\n",
       "Germany               0.602151\n",
       "Donald Trump          0.580645\n",
       "Syrian                0.580645\n",
       "Kiev                  0.559140\n",
       "war                   0.537634\n",
       "citizens              0.473118\n",
       "territory             0.473118\n",
       "European              0.451613\n",
       "children              0.451613\n",
       "Donbass               0.430108\n",
       "authorities           0.430108\n",
       "Russia                0.408602\n",
       "President             0.408602\n",
       "elections             0.408602\n",
       "Hillary Clinton       0.387097\n",
       "NATO                  0.387097\n",
       "Aleppo                0.387097\n",
       "Czech Republic        0.365591\n",
       "Europe                0.344086\n",
       "Name: name, dtype: float64"
      ]
     },
     "execution_count": 19,
     "metadata": {},
     "output_type": "execute_result"
    }
   ],
   "source": [
    "terms = entities_df['name'][entities_df['type'] != 'OTHER']\n",
    "(terms.value_counts() / terms.count() * 100).nlargest(30)"
   ]
  },
  {
   "cell_type": "markdown",
   "metadata": {},
   "source": [
    "## Most mentioned people\n",
    "On the left the person type or name, on the right the frequency in %."
   ]
  },
  {
   "cell_type": "code",
   "execution_count": 20,
   "metadata": {
    "collapsed": false
   },
   "outputs": [
    {
     "data": {
      "text/plain": [
       "people             5.361446\n",
       "Vladimir Putin     2.168675\n",
       "Donald Trump       1.626506\n",
       "citizens           1.325301\n",
       "children           1.265060\n",
       "authorities        1.204819\n",
       "President          1.144578\n",
       "Hillary Clinton    1.084337\n",
       "soldiers           0.903614\n",
       "migrants           0.783133\n",
       "population         0.722892\n",
       "man                0.722892\n",
       "refugees           0.722892\n",
       "Ukrainians         0.722892\n",
       "troops             0.602410\n",
       "Putin              0.542169\n",
       "representatives    0.542169\n",
       "journalists        0.542169\n",
       "head               0.542169\n",
       "residents          0.542169\n",
       "families           0.542169\n",
       "men                0.481928\n",
       "representative     0.481928\n",
       "militants          0.481928\n",
       "civilians          0.481928\n",
       "Americans          0.421687\n",
       "Angela Merkel      0.421687\n",
       "politicians        0.421687\n",
       "fighters           0.421687\n",
       "experts            0.421687\n",
       "Name: name, dtype: float64"
      ]
     },
     "execution_count": 20,
     "metadata": {},
     "output_type": "execute_result"
    }
   ],
   "source": [
    "people = entities_df['name'][entities_df['type'] == 'PERSON']\n",
    "(people.value_counts() / people.count() * 100).nlargest(30)"
   ]
  },
  {
   "cell_type": "markdown",
   "metadata": {},
   "source": [
    "## Most mentioned locations\n",
    "On the left the location type or name, on the right the frequency in %."
   ]
  },
  {
   "cell_type": "code",
   "execution_count": 21,
   "metadata": {
    "collapsed": false
   },
   "outputs": [
    {
     "data": {
      "text/plain": [
       "Russian               8.795670\n",
       "Ukrainian             7.307172\n",
       "United States         3.315291\n",
       "Ukraine               3.044655\n",
       "Russian Federation    2.232747\n",
       "country               2.097429\n",
       "Germany               1.894452\n",
       "Syrian                1.826793\n",
       "Kiev                  1.759134\n",
       "countries             1.623816\n",
       "Moscow                1.488498\n",
       "territory             1.488498\n",
       "European              1.420839\n",
       "Donbass               1.353180\n",
       "Aleppo                1.217862\n",
       "Czech Republic        1.150203\n",
       "Russia                1.150203\n",
       "Europe                1.082544\n",
       "region                1.082544\n",
       "world                 1.014885\n",
       "American              1.014885\n",
       "city                  0.947226\n",
       "Donetsk               0.879567\n",
       "Crimean               0.879567\n",
       "state                 0.811908\n",
       "Finland               0.676590\n",
       "Crimea                0.676590\n",
       "village               0.676590\n",
       "US                    0.676590\n",
       "states                0.676590\n",
       "Name: name, dtype: float64"
      ]
     },
     "execution_count": 21,
     "metadata": {},
     "output_type": "execute_result"
    }
   ],
   "source": [
    "locations = entities_df['name'][entities_df['type'] == 'LOCATION']\n",
    "(locations.value_counts() / locations.count() * 100).nlargest(30)"
   ]
  },
  {
   "cell_type": "markdown",
   "metadata": {},
   "source": [
    "## Most mentioned organisations\n",
    "On the left the organisation type or name, on the right the frequency in %."
   ]
  },
  {
   "cell_type": "code",
   "execution_count": 22,
   "metadata": {
    "collapsed": false
   },
   "outputs": [
    {
     "data": {
      "text/plain": [
       "European Union    3.686636\n",
       "NATO              2.073733\n",
       "government        1.612903\n",
       "army              1.497696\n",
       "RIA Novosti       1.497696\n",
       "group             1.382488\n",
       "EU                1.382488\n",
       "Moscow            1.267281\n",
       "LNR               1.267281\n",
       "schools           1.152074\n",
       "Government        1.036866\n",
       "party             1.036866\n",
       "military          1.036866\n",
       "Kremlin           0.921659\n",
       "CIA               0.921659\n",
       "forces            0.921659\n",
       "United Nations    0.921659\n",
       "team              0.806452\n",
       "ATO               0.806452\n",
       "DNI               0.806452\n",
       "NGOs              0.806452\n",
       "organization      0.806452\n",
       "OSCE              0.691244\n",
       "APU               0.691244\n",
       "organizations     0.691244\n",
       "parties           0.691244\n",
       "TASS              0.691244\n",
       "Militia           0.576037\n",
       "newspaper         0.576037\n",
       "HSP               0.576037\n",
       "Name: name, dtype: float64"
      ]
     },
     "execution_count": 22,
     "metadata": {},
     "output_type": "execute_result"
    }
   ],
   "source": [
    "organisations = entities_df['name'][entities_df['type'] == 'ORGANIZATION']\n",
    "(organisations.value_counts() / organisations.count() * 100).nlargest(30)"
   ]
  },
  {
   "cell_type": "markdown",
   "metadata": {},
   "source": [
    "## Most mentioned events\n",
    "On the left the event, on the right the frequency in %."
   ]
  },
  {
   "cell_type": "code",
   "execution_count": 23,
   "metadata": {
    "collapsed": false
   },
   "outputs": [
    {
     "data": {
      "text/plain": [
       "war                  6.393862\n",
       "elections            4.859335\n",
       "conflict             3.836317\n",
       "meeting              3.324808\n",
       "attack               3.324808\n",
       "election             2.301790\n",
       "interview            2.046036\n",
       "opening              1.790281\n",
       "introduction         1.790281\n",
       "incident             1.790281\n",
       "press conference     1.534527\n",
       "coup                 1.534527\n",
       "visit                1.278772\n",
       "crisis               1.278772\n",
       "attacks              1.278772\n",
       "speech               1.023018\n",
       "meetings             1.023018\n",
       "ceasefire            1.023018\n",
       "collapse             1.023018\n",
       "bombings             0.767263\n",
       "crash                0.767263\n",
       "death                0.767263\n",
       "fight                0.767263\n",
       "terrorist attacks    0.767263\n",
       "bombing              0.767263\n",
       "migration            0.767263\n",
       "conference           0.767263\n",
       "assault              0.767263\n",
       "Convention           0.767263\n",
       "exercise             0.767263\n",
       "Name: name, dtype: float64"
      ]
     },
     "execution_count": 23,
     "metadata": {},
     "output_type": "execute_result"
    }
   ],
   "source": [
    "events = entities_df['name'][entities_df['type'] == 'EVENT']\n",
    "(events.value_counts() / events.count() * 100).nlargest(30)"
   ]
  },
  {
   "cell_type": "markdown",
   "metadata": {},
   "source": [
    "## Most mentioned other terms\n",
    "On the left the term, on the right the frequency in %."
   ]
  },
  {
   "cell_type": "code",
   "execution_count": 24,
   "metadata": {
    "collapsed": false
   },
   "outputs": [
    {
     "data": {
      "text/plain": [
       "&quot          1.686835\n",
       "situation      0.953429\n",
       "information    0.843418\n",
       "media          0.770077\n",
       "part           0.770077\n",
       "number         0.660066\n",
       "relations      0.623396\n",
       "fact           0.550055\n",
       "case           0.513385\n",
       "regime         0.476714\n",
       "side           0.440044\n",
       "policy         0.440044\n",
       "one            0.440044\n",
       "work           0.403374\n",
       "fire           0.403374\n",
       "right          0.403374\n",
       "way            0.403374\n",
       "sanctions      0.403374\n",
       "question       0.330033\n",
       "law            0.330033\n",
       "threat         0.330033\n",
       "interest       0.330033\n",
       "ships          0.330033\n",
       "propaganda     0.293363\n",
       "problem        0.293363\n",
       "data           0.293363\n",
       "head           0.293363\n",
       "convoy         0.293363\n",
       "power          0.293363\n",
       "democracy      0.293363\n",
       "Name: name, dtype: float64"
      ]
     },
     "execution_count": 24,
     "metadata": {},
     "output_type": "execute_result"
    }
   ],
   "source": [
    "others = entities_df['name'][entities_df['type'] == 'OTHER']\n",
    "(others.value_counts() / others.count() * 100).nlargest(30)"
   ]
  },
  {
   "cell_type": "markdown",
   "metadata": {},
   "source": [
    "## Authors\n",
    "Authors on the left, number of articles post on the right. Most of the articles do not have cleary specified authors."
   ]
  },
  {
   "cell_type": "code",
   "execution_count": 25,
   "metadata": {
    "collapsed": false
   },
   "outputs": [
    {
     "data": {
      "text/plain": [
       "Vedoucí kolotoče                         10\n",
       "Jana Petrova                              3\n",
       "Világfigyelő                              3\n",
       "admin                                     2\n",
       "Alena Novotná                             2\n",
       "Caroline B. Glick                         2\n",
       "Baxter Dmitry                             2\n",
       "Eliot Higgins                             2\n",
       "Олесь Бузина                              2\n",
       "Svět kolem nás                            2\n",
       "Tyler Durden                              2\n",
       "Virginia Hale                             2\n",
       "Redakce                                   2\n",
       "Juraj Pokorný                             2\n",
       "Václav Dvořák                             2\n",
       "Orosz Hírek                               1\n",
       "ČTK/Pavlíček Luboš                        1\n",
       "Martin Walsh                              1\n",
       "Justin Seitz                              1\n",
       "Игорь Скрыпач                             1\n",
       "Volodymyr Petrov                          1\n",
       "Christopher Black                         1\n",
       "Алексей Громов                            1\n",
       "Артем Филипенок                           1\n",
       "Adam Garrie                               1\n",
       "Investigative Bureau                      1\n",
       "Nick Waters                               1\n",
       "Paul Goble                                1\n",
       "The Saker                                 1\n",
       "CBC News                                  1\n",
       "                                         ..\n",
       "Bethania Palma                            1\n",
       "Edmondo Burr                              1\n",
       "Gilbert Doctorow                          1\n",
       "Emil Kalabus                              1\n",
       "RISI TV                                   1\n",
       "Ricky Twisdale                            1\n",
       "Nicu Goncear                              1\n",
       "Jiřina Holotová                           1\n",
       "BGŻ BNP Paribas                           1\n",
       "Андрей Шаврей                             1\n",
       "Děnis Kločkov                             1\n",
       "Graham Lanktree                           1\n",
       "redaktor editor                           1\n",
       "Martin Kohout                             1\n",
       "Rudy Panko                                1\n",
       "Boris Reitschuster                        1\n",
       "Jiří Baťa                                 1\n",
       "Adam Mosseri                              1\n",
       "Paul Joseph Watson                        1\n",
       "Юрий Канцанс                              1\n",
       "Василий Волга                             1\n",
       "Interpreter Staff                         1\n",
       "Фото: Дмитрий Духанин / «Коммерсантъ»     1\n",
       "F. William Engdahl                        1\n",
       "Georg Diez                                1\n",
       "Фото: Максим Блинов / РИА Новости         1\n",
       "John Helmer                               1\n",
       "Oscar Platt                               1\n",
       "Roger Annis                               1\n",
       "Александр ЛУКЬЯНОВ                        1\n",
       "Name: authors, dtype: int64"
      ]
     },
     "execution_count": 25,
     "metadata": {},
     "output_type": "execute_result"
    }
   ],
   "source": [
    "df['authors'].value_counts()"
   ]
  },
  {
   "cell_type": "markdown",
   "metadata": {},
   "source": [
    "## Most common languages\n",
    "On the left the language, on the right the frequency in %."
   ]
  },
  {
   "cell_type": "code",
   "execution_count": 26,
   "metadata": {
    "collapsed": false
   },
   "outputs": [
    {
     "data": {
      "text/plain": [
       "en    32.543103\n",
       "ru    30.818966\n",
       "cs    25.431034\n",
       "de     2.801724\n",
       "sk     2.586207\n",
       "hu     1.508621\n",
       "ro     0.862069\n",
       "bg     0.862069\n",
       "uk     0.646552\n",
       "pl     0.431034\n",
       "nl     0.431034\n",
       "lt     0.431034\n",
       "sv     0.215517\n",
       "lv     0.215517\n",
       "be     0.215517\n",
       "Name: language, dtype: float64"
      ]
     },
     "execution_count": 26,
     "metadata": {},
     "output_type": "execute_result"
    }
   ],
   "source": [
    "(df['language'].value_counts() / df['language'].count() * 100)"
   ]
  },
  {
   "cell_type": "markdown",
   "metadata": {},
   "source": [
    "## Sentiment\n",
    "Sentiment score is a value from -1 to 1, where -1 means very negative, 0 neutral and 1 very positive. Sentiment magnitude is how strong is the sentiment in the news. Each bullet represents a news.\n",
    "\n",
    "The chart shows that the sentiment of the news is well distribuited between negative and positive around the neutral, which means that the sentiment analysis is probably not very useful to spot fake news."
   ]
  },
  {
   "cell_type": "code",
   "execution_count": 27,
   "metadata": {
    "collapsed": false
   },
   "outputs": [
    {
     "data": {
      "text/plain": [
       "<matplotlib.axes._subplots.AxesSubplot at 0x7ff476bfa588>"
      ]
     },
     "execution_count": 27,
     "metadata": {},
     "output_type": "execute_result"
    },
    {
     "data": {
      "image/png": "[encoded data removed]",
      "text/plain": [
       "<matplotlib.figure.Figure at 0x7ff4774c6a20>"
      ]
     },
     "metadata": {},
     "output_type": "display_data"
    }
   ],
   "source": [
    "df.plot.scatter(x='sentiment_score', y='sentiment_magnitude')"
   ]
  },
  {
   "cell_type": "code",
   "execution_count": null,
   "metadata": {
    "collapsed": true
   },
   "outputs": [],
   "source": []
  }
 ],
 "metadata": {
  "kernelspec": {
   "display_name": "Python 3",
   "language": "python",
   "name": "python3"
  },
  "language_info": {
   "codemirror_mode": {
    "name": "ipython",
    "version": 3
   },
   "file_extension": ".py",
   "mimetype": "text/x-python",
   "name": "python",
   "nbconvert_exporter": "python",
   "pygments_lexer": "ipython3",
   "version": "3.6.0"
  }
 },
 "nbformat": 4,
 "nbformat_minor": 2
}
